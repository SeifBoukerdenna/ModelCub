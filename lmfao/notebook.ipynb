{
 "cells": [
  {
   "cell_type": "code",
   "execution_count": 6,
   "id": "65598978",
   "metadata": {},
   "outputs": [
    {
     "name": "stderr",
     "output_type": "stream",
     "text": [
      "Orphaned process detected: run=run-20251027-183211, pid=45841\n"
     ]
    },
    {
     "name": "stdout",
     "output_type": "stream",
     "text": [
      "[{'image_id': 'fruit_0010', 'image_path': 'train/images/fruit_0010.jpg', 'split': 'train', 'num_boxes': 1, 'is_null': False, 'is_annotated': True}, {'image_id': 'fruit_0005', 'image_path': 'train/images/fruit_0005.jpg', 'split': 'train', 'num_boxes': 1, 'is_null': False, 'is_annotated': True}, {'image_id': 'fruit_0007', 'image_path': 'train/images/fruit_0007.jpg', 'split': 'train', 'num_boxes': 1, 'is_null': False, 'is_annotated': True}, {'image_id': 'fruit_0001', 'image_path': 'train/images/fruit_0001.jpg', 'split': 'train', 'num_boxes': 1, 'is_null': False, 'is_annotated': True}, {'image_id': 'fruit_0000', 'image_path': 'train/images/fruit_0000.jpg', 'split': 'train', 'num_boxes': 1, 'is_null': False, 'is_annotated': True}, {'image_id': 'fruit_0008', 'image_path': 'train/images/fruit_0008.jpg', 'split': 'train', 'num_boxes': 1, 'is_null': False, 'is_annotated': True}, {'image_id': 'fruit_0009', 'image_path': 'train/images/fruit_0009.jpg', 'split': 'train', 'num_boxes': 0, 'is_null': True, 'is_annotated': True}, {'image_id': 'fruit_0004', 'image_path': 'val/images/fruit_0004.jpg', 'split': 'val', 'num_boxes': 1, 'is_null': False, 'is_annotated': True}, {'image_id': 'fruit_0003', 'image_path': 'val/images/fruit_0003.jpg', 'split': 'val', 'num_boxes': 1, 'is_null': False, 'is_annotated': True}, {'image_id': 'fruit_0006', 'image_path': 'test/images/fruit_0006.jpg', 'split': 'test', 'num_boxes': 1, 'is_null': False, 'is_annotated': True}, {'image_id': 'fruit_0002', 'image_path': 'test/images/fruit_0002.jpg', 'split': 'test', 'num_boxes': 1, 'is_null': False, 'is_annotated': True}]\n",
      "{'train': 7, 'val': 2, 'test': 2, 'unlabeled': 0}\n",
      "RunMetrics(map50=0.2369, map50_95=0.10215, precision=0.00499, recall=1.0, best_epoch=1)\n"
     ]
    },
    {
     "data": {
      "text/plain": [
       "'completed'"
      ]
     },
     "execution_count": 6,
     "metadata": {},
     "output_type": "execute_result"
    }
   ],
   "source": [
    "from modelcub.sdk import Project\n",
    "from modelcub import TrainingManager, TrainingRun\n",
    "\n",
    "p = Project.load()\n",
    "ds = p.get_dataset(\"test-ds\")\n",
    "print(ds.get_annotations())\n",
    "print(ds.get_split_counts())\n",
    "runs = p.training.list()\n",
    "\n",
    "trainingManager = TrainingManager(\"./\")\n",
    "run = trainingManager.get(\"run-20251027-183211\")\n",
    "\n",
    "print(run.metrics)\n",
    "trainingRun = TrainingRun(run.id, \"./\")\n",
    "\n",
    "# trainingRun.start()\n",
    "\n",
    "trainingRun.status\n",
    "\n"
   ]
  }
 ],
 "metadata": {
  "kernelspec": {
   "display_name": ".venv",
   "language": "python",
   "name": "python3"
  },
  "language_info": {
   "codemirror_mode": {
    "name": "ipython",
    "version": 3
   },
   "file_extension": ".py",
   "mimetype": "text/x-python",
   "name": "python",
   "nbconvert_exporter": "python",
   "pygments_lexer": "ipython3",
   "version": "3.11.3"
  }
 },
 "nbformat": 4,
 "nbformat_minor": 5
}
