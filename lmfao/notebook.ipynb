{
 "cells": [
  {
   "cell_type": "code",
   "execution_count": 5,
   "id": "65598978",
   "metadata": {},
   "outputs": [
    {
     "name": "stdout",
     "output_type": "stream",
     "text": [
      "[{'image_id': 'fruit_0004', 'image_path': 'train/images/fruit_0004.jpg', 'split': 'train', 'num_boxes': 1, 'is_null': False, 'is_annotated': True}, {'image_id': 'fruit_0005', 'image_path': 'train/images/fruit_0005.jpg', 'split': 'train', 'num_boxes': 1, 'is_null': False, 'is_annotated': True}, {'image_id': 'fruit_0007', 'image_path': 'train/images/fruit_0007.jpg', 'split': 'train', 'num_boxes': 1, 'is_null': False, 'is_annotated': True}, {'image_id': 'fruit_0006', 'image_path': 'train/images/fruit_0006.jpg', 'split': 'train', 'num_boxes': 1, 'is_null': False, 'is_annotated': True}, {'image_id': 'fruit_0001', 'image_path': 'train/images/fruit_0001.jpg', 'split': 'train', 'num_boxes': 1, 'is_null': False, 'is_annotated': True}, {'image_id': 'fruit_0000', 'image_path': 'train/images/fruit_0000.jpg', 'split': 'train', 'num_boxes': 1, 'is_null': False, 'is_annotated': True}, {'image_id': 'fruit_0008', 'image_path': 'train/images/fruit_0008.jpg', 'split': 'train', 'num_boxes': 1, 'is_null': False, 'is_annotated': True}, {'image_id': 'fruit_0002', 'image_path': 'val/images/fruit_0002.jpg', 'split': 'val', 'num_boxes': 1, 'is_null': False, 'is_annotated': True}, {'image_id': 'fruit_0003', 'image_path': 'val/images/fruit_0003.jpg', 'split': 'val', 'num_boxes': 1, 'is_null': False, 'is_annotated': True}, {'image_id': 'fruit_0009', 'image_path': 'test/images/fruit_0009.jpg', 'split': 'test', 'num_boxes': 1, 'is_null': False, 'is_annotated': True}]\n",
      "{'train': 7, 'val': 2, 'test': 1, 'unlabeled': 0}\n",
      "Model: first-test-model\n",
      "Version: 20251027-174016\n",
      "Created: 2025-10-27T17:40:16.091805Z\n",
      "Run: run-20251027-173327\n",
      "Path: /Users/malikmacbook/Desktop/ModelCub/lmfao/models/first-test-model/best.pt\n",
      "\n",
      "Metrics:\n",
      "  map50: 0.27801\n",
      "  map50_95: 0.1829\n",
      "  precision: 0.70809\n",
      "  recall: 0.5\n",
      "  best_epoch: 5\n",
      "  box_loss: 2.10267\n",
      "  cls_loss: 3.04511\n",
      "  dfl_loss: 2.58255\n",
      "\n",
      "Dataset: test-ds\n",
      "None\n",
      "Model: model-from-sdk\n",
      "Version: 20251027-211442\n",
      "Created: 2025-10-27T21:14:42.234811Z\n",
      "Run: run-20251027-183211\n",
      "Path: /Users/malikmacbook/Desktop/ModelCub/lmfao/models/model-from-sdk/best.pt\n",
      "\n",
      "Description: model created from sdk just to test things out\n",
      "\n",
      "Metrics:\n",
      "  map50: 0.2369\n",
      "  map50_95: 0.10215\n",
      "  precision: 0.00499\n",
      "  recall: 1.0\n",
      "  best_epoch: 1\n",
      "  box_loss: 2.41212\n",
      "  cls_loss: 3.87385\n",
      "  dfl_loss: 3.05779\n",
      "\n",
      "Dataset: test-ds\n",
      "None\n"
     ]
    }
   ],
   "source": [
    "from modelcub.sdk import Project\n",
    "from modelcub import TrainingManager, TrainingRun, ModelManager\n",
    "\n",
    "p = Project.load()\n",
    "ds = p.get_dataset(\"test-ds\")\n",
    "print(ds.get_annotations())\n",
    "print(ds.get_split_counts())\n",
    "runs = p.training.list()\n",
    "\n",
    "trainingManager = TrainingManager(\"./\")\n",
    "run = trainingManager.get(\"run-20251027-183211\")\n",
    "\n",
    "run.status\n",
    "\n",
    "model = p.models.list()\n",
    "\n",
    "for m in model:\n",
    "    print(m.info())\n",
    "\n",
    "\n"
   ]
  }
 ],
 "metadata": {
  "kernelspec": {
   "display_name": ".venv",
   "language": "python",
   "name": "python3"
  },
  "language_info": {
   "codemirror_mode": {
    "name": "ipython",
    "version": 3
   },
   "file_extension": ".py",
   "mimetype": "text/x-python",
   "name": "python",
   "nbconvert_exporter": "python",
   "pygments_lexer": "ipython3",
   "version": "3.11.3"
  }
 },
 "nbformat": 4,
 "nbformat_minor": 5
}
