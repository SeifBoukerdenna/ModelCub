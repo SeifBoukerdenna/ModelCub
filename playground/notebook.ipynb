{
 "cells": [
  {
   "cell_type": "code",
   "execution_count": null,
   "id": "9cc91b8f",
   "metadata": {},
   "outputs": [
    {
     "name": "stdout",
     "output_type": "stream",
     "text": [
      "Dataset: animals (4 images)\n",
      "==================================================\n",
      "{'image_id': 'panda5', 'image_path': 'images/unlabeled/panda5.jpg', 'boxes': [{'class_id': 0, 'x': 0.5, 'y': 0.5, 'w': 0.2, 'h': 0.3}, {'class_id': 1, 'x': 0.7, 'y': 0.3, 'w': 0.15, 'h': 0.25}], 'status': 'labeled'}\n",
      "==================================================\n",
      "{'dataset': 'animals', 'total_images': 4, 'labeled': 1, 'unlabeled': 3, 'progress': 0.25, 'total_boxes': 2, 'avg_boxes_per_image': 2.0, 'class_distribution': {'bear1': 1, 'bear2': 1, 'bear3': 0}}\n"
     ]
    }
   ],
   "source": [
    "import importlib, modelcub.sdk.project as project_mod, modelcub.sdk.dataset as dataset_mod\n",
    "\n",
    "importlib.reload(project_mod)\n",
    "importlib.reload(dataset_mod)\n",
    "\n",
    "from modelcub import Project, Box\n",
    "\n",
    "project = Project.init(\"anno_project\", force=True)\n",
    "\n",
    "dataset = project.import_dataset(source=\"./photos\", name=\"animals\", classes=[\"bear1\", \"bear2\", \"bear3\"], force=True, delete_existent=True)\n",
    "\n",
    "boxes = [\n",
    "    Box(class_id=0, x=0.5, y=0.5, w=0.2, h=0.3),\n",
    "    Box(class_id=1, x=0.7, y=0.3, w=0.15, h=0.25)\n",
    "]\n",
    "\n",
    "dataset.info().name\n",
    "print(dataset)\n",
    "\n",
    "result = dataset.save_annotation(\"panda5\", boxes)\n",
    "\n",
    "print(\"=\"*50)\n",
    "\n",
    "print(dataset.get_annotation(\"panda5\"))\n",
    "\n",
    "print(\"=\"*50)\n",
    "\n",
    "print(dataset.annotation_stats())\n",
    "\n",
    "print(\"=\"*50)\n"
   ]
  }
 ],
 "metadata": {
  "kernelspec": {
   "display_name": ".venv",
   "language": "python",
   "name": "python3"
  },
  "language_info": {
   "codemirror_mode": {
    "name": "ipython",
    "version": 3
   },
   "file_extension": ".py",
   "mimetype": "text/x-python",
   "name": "python",
   "nbconvert_exporter": "python",
   "pygments_lexer": "ipython3",
   "version": "3.11.3"
  }
 },
 "nbformat": 4,
 "nbformat_minor": 5
}
