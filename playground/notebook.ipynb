{
 "cells": [
  {
   "cell_type": "code",
   "execution_count": 9,
   "id": "9cc91b8f",
   "metadata": {},
   "outputs": [],
   "source": [
    "import importlib, modelcub.sdk.project as project_mod, modelcub.sdk.dataset as dataset_mod\n",
    "\n",
    "importlib.reload(project_mod)\n",
    "importlib.reload(dataset_mod)\n",
    "\n",
    "from modelcub import Project, Box\n",
    "\n",
    "project = Project.load(\"../a\")\n",
    "\n",
    "project.name\n",
    "project.list_datasets()\n",
    "\n",
    "project.delete(confirm=True)\n",
    "\n"
   ]
  },
  {
   "cell_type": "code",
   "execution_count": null,
   "id": "9771200e",
   "metadata": {},
   "outputs": [],
   "source": [
    "\n"
   ]
  }
 ],
 "metadata": {
  "kernelspec": {
   "display_name": ".venv",
   "language": "python",
   "name": "python3"
  },
  "language_info": {
   "codemirror_mode": {
    "name": "ipython",
    "version": 3
   },
   "file_extension": ".py",
   "mimetype": "text/x-python",
   "name": "python",
   "nbconvert_exporter": "python",
   "pygments_lexer": "ipython3",
   "version": "3.11.3"
  }
 },
 "nbformat": 4,
 "nbformat_minor": 5
}
