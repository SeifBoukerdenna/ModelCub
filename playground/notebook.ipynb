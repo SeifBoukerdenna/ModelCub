{
 "cells": [
  {
   "cell_type": "code",
   "execution_count": 2,
   "id": "9cc91b8f",
   "metadata": {},
   "outputs": [
    {
     "data": {
      "text/plain": [
       "DatasetInfo(name='panda', id='3a2bd5c6', path=PosixPath('/Users/malikmacbook/Desktop/ModelCub/lmfao/data/datasets/panda'), images=10, classes=['a', 'b', 'c'], status='unlabeled', total_images=10, size='145.5 KB', created='2025-10-21T13:36:47.837804Z', source='/var/folders/t9/4n0r3kz548s1bw7lxtp7c6f80000gn/T/modelcub_upload_uo_1gtxw')"
      ]
     },
     "execution_count": 2,
     "metadata": {},
     "output_type": "execute_result"
    }
   ],
   "source": [
    "from modelcub import Project, Dataset\n",
    "\n",
    "ds = Dataset.load(\"panda\", project_path=\"../lmfao\")\n",
    "ds.info()\n"
   ]
  },
  {
   "cell_type": "code",
   "execution_count": 3,
   "id": "bc493a0d",
   "metadata": {},
   "outputs": [],
   "source": [
    "project.delete(confirm=True)"
   ]
  }
 ],
 "metadata": {
  "kernelspec": {
   "display_name": ".venv",
   "language": "python",
   "name": "python3"
  },
  "language_info": {
   "codemirror_mode": {
    "name": "ipython",
    "version": 3
   },
   "file_extension": ".py",
   "mimetype": "text/x-python",
   "name": "python",
   "nbconvert_exporter": "python",
   "pygments_lexer": "ipython3",
   "version": "3.11.3"
  }
 },
 "nbformat": 4,
 "nbformat_minor": 5
}
