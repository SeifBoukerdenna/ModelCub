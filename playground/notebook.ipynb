{
 "cells": [
  {
   "cell_type": "code",
   "execution_count": 2,
   "id": "9cc91b8f",
   "metadata": {},
   "outputs": [
    {
     "name": "stdout",
     "output_type": "stream",
     "text": [
      "Dataset: animals (4 images)\n",
      "panda6.jpg images/unlabeled/panda6.jpg False\n",
      "panda7.jpg images/unlabeled/panda7.jpg False\n"
     ]
    }
   ],
   "source": [
    "import importlib, modelcub.sdk.project as project_mod, modelcub.sdk.dataset as dataset_mod\n",
    "\n",
    "importlib.reload(project_mod)\n",
    "importlib.reload(dataset_mod)\n",
    "\n",
    "from modelcub import Project, Box\n",
    "\n",
    "project = Project.init(\"anno_project\", force=True)\n",
    "\n",
    "dataset = project.import_dataset(source=\"./photos\", name=\"animals\", classes=[\"bear1\", \"bear2\", \"bear3\"], force=True, delete_existent=True)\n",
    "\n",
    "boxes = [\n",
    "    Box(class_id=0, x=0.5, y=0.5, w=0.2, h=0.3),\n",
    "    Box(class_id=1, x=0.7, y=0.3, w=0.15, h=0.25)\n",
    "]\n",
    "\n",
    "dataset.info().name\n",
    "print(dataset)\n",
    "\n",
    "\n",
    "images, total = dataset.list_images(split='unlabeled', limit=2,)\n",
    "for img in images:\n",
    "    print(img['name'], img['path'], img['has_label'])\n",
    "\n",
    "\n"
   ]
  }
 ],
 "metadata": {
  "kernelspec": {
   "display_name": ".venv",
   "language": "python",
   "name": "python3"
  },
  "language_info": {
   "codemirror_mode": {
    "name": "ipython",
    "version": 3
   },
   "file_extension": ".py",
   "mimetype": "text/x-python",
   "name": "python",
   "nbconvert_exporter": "python",
   "pygments_lexer": "ipython3",
   "version": "3.11.3"
  }
 },
 "nbformat": 4,
 "nbformat_minor": 5
}
