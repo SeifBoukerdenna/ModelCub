{
 "cells": [
  {
   "cell_type": "code",
   "execution_count": null,
   "id": "9cc91b8f",
   "metadata": {},
   "outputs": [
    {
     "data": {
      "text/plain": [
       "DatasetInfo(name='lmfao', id='8477821e', path=PosixPath('/Users/malikmacbook/Desktop/ModelCub/test-project/data/datasets/lmfao'), images=5, classes=['bff', 'c', 'd'], status='unlabeled', total_images=5, size='101.9 KB', created='2025-10-20T22:50:15.432878Z', source='/var/folders/t9/4n0r3kz548s1bw7lxtp7c6f80000gn/T/modelcub_upload_9aw2o431')"
      ]
     },
     "execution_count": 9,
     "metadata": {},
     "output_type": "execute_result"
    }
   ],
   "source": [
    "from modelcub import Project\n",
    "\n",
    "p = Project.load(\"../test-project\")\n",
    "ds = p.get_dataset(\"lmfao\")\n",
    "\n"
   ]
  },
  {
   "cell_type": "code",
   "execution_count": 3,
   "id": "bc493a0d",
   "metadata": {},
   "outputs": [],
   "source": [
    "project.delete(confirm=True)"
   ]
  }
 ],
 "metadata": {
  "kernelspec": {
   "display_name": ".venv",
   "language": "python",
   "name": "python3"
  },
  "language_info": {
   "codemirror_mode": {
    "name": "ipython",
    "version": 3
   },
   "file_extension": ".py",
   "mimetype": "text/x-python",
   "name": "python",
   "nbconvert_exporter": "python",
   "pygments_lexer": "ipython3",
   "version": "3.11.3"
  }
 },
 "nbformat": 4,
 "nbformat_minor": 5
}
