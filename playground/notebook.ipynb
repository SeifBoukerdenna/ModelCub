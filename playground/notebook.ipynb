{
 "cells": [
  {
   "cell_type": "code",
   "execution_count": 4,
   "id": "9cc91b8f",
   "metadata": {},
   "outputs": [
    {
     "name": "stdout",
     "output_type": "stream",
     "text": [
      "Dataset: my-dataset (4 images)\n",
      "Job b7505302 started\n",
      "Progress: 0.0% (0/4)\n",
      "Progress: 100.0% (4/4)\n",
      "Job finished: completed\n",
      "\n",
      "All jobs:\n",
      "  b7505302: completed - 100.0%\n"
     ]
    }
   ],
   "source": [
    "from modelcub import Project\n",
    "\n",
    "# Initialize project\n",
    "project = Project.init(\"my-project\", force=True)\n",
    "\n",
    "# Import dataset\n",
    "dataset = project.import_dataset(\n",
    "    source=\"./photos\",\n",
    "    name=\"my-dataset\",\n",
    "    classes=[\"cat\", \"dog\"],\n",
    "    recursive=True\n",
    ")\n",
    "\n",
    "print(f\"Dataset: {dataset.name} ({dataset.images} images)\")\n",
    "\n",
    "# Create and start annotation job\n",
    "job = project.jobs.create_job(\n",
    "    dataset_name=\"my-dataset\",\n",
    "    auto_start=True\n",
    ")\n",
    "\n",
    "print(f\"Job {job.id} started\")\n",
    "\n",
    "# Monitor progress\n",
    "import time\n",
    "while not job.is_complete:\n",
    "    job.refresh()\n",
    "    print(f\"Progress: {job.progress:.1f}% ({job.completed_tasks}/{job.total_tasks})\")\n",
    "    time.sleep(2)\n",
    "\n",
    "print(f\"Job finished: {job.status.value}\")\n",
    "\n",
    "# List all jobs\n",
    "print(\"\\nAll jobs:\")\n",
    "for j in project.jobs.list_jobs():\n",
    "    print(f\"  {j.id}: {j.status.value} - {j.progress:.1f}%\")\n",
    "\n",
    "# Get failed tasks if any\n",
    "if job.failed_tasks > 0:\n",
    "    failed = job.get_tasks(TaskStatus.FAILED)\n",
    "    print(f\"\\nFailed tasks: {len(failed)}\")\n",
    "    for task in failed[:5]:  # First 5\n",
    "        print(f\"  {task.image_id}: {task.error_message}\")"
   ]
  },
  {
   "cell_type": "code",
   "execution_count": 3,
   "id": "bc493a0d",
   "metadata": {},
   "outputs": [],
   "source": [
    "project.delete(confirm=True)"
   ]
  }
 ],
 "metadata": {
  "kernelspec": {
   "display_name": ".venv",
   "language": "python",
   "name": "python3"
  },
  "language_info": {
   "codemirror_mode": {
    "name": "ipython",
    "version": 3
   },
   "file_extension": ".py",
   "mimetype": "text/x-python",
   "name": "python",
   "nbconvert_exporter": "python",
   "pygments_lexer": "ipython3",
   "version": "3.11.3"
  }
 },
 "nbformat": 4,
 "nbformat_minor": 5
}
