{
 "cells": [
  {
   "cell_type": "markdown",
   "id": "f669b5e7",
   "metadata": {},
   "source": [
    "# Workflow Automation with Python SDK\n",
    "\n",
    "Welcome to this interactive notebook!  \n",
    "Here, you'll learn how to **create**, **configure**, and **manage workflows** using the Python SDK.\n",
    "\n",
    "---\n",
    "\n",
    "## 📋 What You'll Learn\n",
    "\n",
    "- How to set up your environment\n",
    "- Step-by-step workflow creation\n",
    "- Managing and executing workflow tasks programmatically\n",
    "\n",
    "---\n",
    "\n",
    "> **Tip:** Use the code cells to experiment and try out each step as you follow along.\n",
    "\n",
    "Let's get started 🚀"
   ]
  },
  {
   "cell_type": "code",
   "execution_count": null,
   "id": "393fa079",
   "metadata": {},
   "outputs": [
    {
     "name": "stdout",
     "output_type": "stream",
     "text": [
      "Success: True\n",
      "Meta: {'request_id': None, 'duration_ms': 5.017040995880961, 'timestamp': '2025-10-18T13:36:07.542343'}\n",
      "Duration: 5.017040995880961ms\n"
     ]
    }
   ],
   "source": [
    "from modelcub import Project\n",
    "\n",
    "p = Project.init(\"lmfaooo\")"
   ]
  }
 ],
 "metadata": {
  "kernelspec": {
   "display_name": ".venv",
   "language": "python",
   "name": "python3"
  },
  "language_info": {
   "codemirror_mode": {
    "name": "ipython",
    "version": 3
   },
   "file_extension": ".py",
   "mimetype": "text/x-python",
   "name": "python",
   "nbconvert_exporter": "python",
   "pygments_lexer": "ipython3",
   "version": "3.11.3"
  }
 },
 "nbformat": 4,
 "nbformat_minor": 5
}
