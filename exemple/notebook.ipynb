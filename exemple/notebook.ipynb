{
 "cells": [
  {
   "cell_type": "markdown",
   "id": "f669b5e7",
   "metadata": {},
   "source": [
    "# Workflow Automation with Python SDK\n",
    "\n",
    "Welcome to this interactive notebook!  \n",
    "Here, you'll learn how to **create**, **configure**, and **manage workflows** using the Python SDK.\n",
    "\n",
    "---\n",
    "\n",
    "## 📋 What You'll Learn\n",
    "\n",
    "- How to set up your environment\n",
    "- Step-by-step workflow creation\n",
    "- Managing and executing workflow tasks programmatically\n",
    "\n",
    "---\n",
    "\n",
    "> **Tip:** Use the code cells to experiment and try out each step as you follow along.\n",
    "\n",
    "Let's get started 🚀"
   ]
  },
  {
   "cell_type": "code",
   "execution_count": null,
   "id": "de7eb6dc",
   "metadata": {},
   "outputs": [],
   "source": [
    "from modelcub import Project, Box\n",
    "import json\n",
    "\n",
    "\n",
    "# Init a project and a dataset\n",
    "project = Project.init(name=\"exemple-project\")\n",
    "dataset = project.import_dataset(\"./images\", name=\"exemple-dataset\", classes=[\"bear1\", \"bear2\", \"bear3\"])\n",
    "\n",
    "dataset.diff()"
   ]
  },
  {
   "cell_type": "code",
   "execution_count": null,
   "id": "bf564617",
   "metadata": {},
   "outputs": [
    {
     "name": "stdout",
     "output_type": "stream",
     "text": [
      "{\n",
      "    \"name\": \"exemple-dataset\",\n",
      "    \"id\": \"3a596d03\",\n",
      "    \"path\": \"/Users/malikmacbook/Desktop/ModelCub/exemple/exemple-project/data/datasets/exemple-dataset\",\n",
      "    \"images\": 5,\n",
      "    \"classes\": [\n",
      "        \"bear1\",\n",
      "        \"bear2\",\n",
      "        \"bear3\"\n",
      "    ],\n",
      "    \"status\": \"unlabeled\",\n",
      "    \"total_images\": 5,\n",
      "    \"size\": \"80.3 KB\",\n",
      "    \"created\": \"2025-10-15T18:41:06.839217Z\",\n",
      "    \"source\": \"images\"\n",
      "}\n",
      "['grizzly', 'bear2', 'bear3']\n"
     ]
    }
   ],
   "source": [
    "\n",
    "# Get ds info\n",
    "info = dataset.info()\n",
    "\n",
    "print(json.dumps(info.__dict__, indent=4, default=str))\n",
    "\n",
    "# rename class bear1 to grizzly\n",
    "dataset.rename_class(\"bear1\", \"grizzly\")\n",
    "\n",
    "print(dataset.list_classes())\n",
    "\n"
   ]
  },
  {
   "cell_type": "code",
   "execution_count": 27,
   "id": "b1f3175d",
   "metadata": {},
   "outputs": [
    {
     "name": "stdout",
     "output_type": "stream",
     "text": [
      "{'name': 'grizzly5.jpg', 'path': 'images/unlabeled/grizzly5.jpg', 'split': 'unlabeled', 'size': 15992, 'has_label': False}\n",
      "{'name': 'grizzly6.jpg', 'path': 'images/unlabeled/grizzly6.jpg', 'split': 'unlabeled', 'size': 19481, 'has_label': False}\n",
      "{'name': 'grizzly7.jpg', 'path': 'images/unlabeled/grizzly7.jpg', 'split': 'unlabeled', 'size': 15908, 'has_label': False}\n",
      "{'name': 'grizzly9.jpg', 'path': 'images/unlabeled/grizzly9.jpg', 'split': 'unlabeled', 'size': 18275, 'has_label': False}\n",
      "{'name': 'grizzly8.jpg', 'path': 'images/unlabeled/grizzly8.jpg', 'split': 'unlabeled', 'size': 11948, 'has_label': False}\n",
      "[{'image_id': 'grizzly5', 'image_path': 'images/unlabeled/grizzly5.jpg', 'num_boxes': 0, 'status': 'unlabeled'}, {'image_id': 'grizzly6', 'image_path': 'images/unlabeled/grizzly6.jpg', 'num_boxes': 0, 'status': 'unlabeled'}, {'image_id': 'grizzly7', 'image_path': 'images/unlabeled/grizzly7.jpg', 'num_boxes': 0, 'status': 'unlabeled'}, {'image_id': 'grizzly9', 'image_path': 'images/unlabeled/grizzly9.jpg', 'num_boxes': 0, 'status': 'unlabeled'}, {'image_id': 'grizzly8', 'image_path': 'images/unlabeled/grizzly8.jpg', 'num_boxes': 2, 'status': 'labeled'}]\n",
      "{'dataset': 'exemple-dataset', 'total_images': 5, 'labeled': 1, 'unlabeled': 4, 'progress': 0.2, 'total_boxes': 2, 'avg_boxes_per_image': 2.0, 'class_distribution': {'grizzly': 1, 'bear2': 1, 'bear3': 0}}\n"
     ]
    }
   ],
   "source": [
    "\n",
    "images, total = dataset.list_images(split=\"unlabeled\", limit=10)\n",
    "\n",
    "for img in images:\n",
    "    print(img)\n",
    "\n",
    "boxes = [\n",
    "    Box(class_id=0, x=0.5, y=0.5, w=0.2, h=0.3),\n",
    "    Box(class_id=1, x=0.7, y=0.3, w=0.15, h=0.25)\n",
    "]\n",
    "\n",
    "# Apply some mock annotations, (this is mainly used in the UI, since i already use this sdk for the UI, ive made it public)\n",
    "dataset.save_annotation(\"grizzly8\", boxes)\n",
    "\n",
    "print(dataset.get_annotations())\n",
    "\n",
    "print(dataset.annotation_stats())"
   ]
  },
  {
   "cell_type": "code",
   "execution_count": 28,
   "id": "c16178a2",
   "metadata": {},
   "outputs": [
    {
     "name": "stdout",
     "output_type": "stream",
     "text": [
      "{'name': 'grizzly5.jpg', 'path': 'images/unlabeled/grizzly5.jpg', 'split': 'unlabeled', 'size': 15992, 'has_label': False}\n",
      "{'name': 'grizzly6.jpg', 'path': 'images/unlabeled/grizzly6.jpg', 'split': 'unlabeled', 'size': 19481, 'has_label': False}\n",
      "{'name': 'grizzly7.jpg', 'path': 'images/unlabeled/grizzly7.jpg', 'split': 'unlabeled', 'size': 15908, 'has_label': False}\n",
      "{'name': 'grizzly9.jpg', 'path': 'images/unlabeled/grizzly9.jpg', 'split': 'unlabeled', 'size': 18275, 'has_label': False}\n",
      "{'name': 'grizzly8.jpg', 'path': 'images/unlabeled/grizzly8.jpg', 'split': 'unlabeled', 'size': 11948, 'has_label': False}\n"
     ]
    }
   ],
   "source": [
    "\n",
    "images, total = dataset.list_images(limit=10)\n",
    "\n",
    "for img in images:\n",
    "    print(img)"
   ]
  },
  {
   "cell_type": "code",
   "execution_count": 24,
   "id": "69d68415",
   "metadata": {},
   "outputs": [],
   "source": [
    "# Delete the project\n",
    "project.delete(confirm=True)"
   ]
  }
 ],
 "metadata": {
  "kernelspec": {
   "display_name": ".venv",
   "language": "python",
   "name": "python3"
  },
  "language_info": {
   "codemirror_mode": {
    "name": "ipython",
    "version": 3
   },
   "file_extension": ".py",
   "mimetype": "text/x-python",
   "name": "python",
   "nbconvert_exporter": "python",
   "pygments_lexer": "ipython3",
   "version": "3.11.3"
  }
 },
 "nbformat": 4,
 "nbformat_minor": 5
}
